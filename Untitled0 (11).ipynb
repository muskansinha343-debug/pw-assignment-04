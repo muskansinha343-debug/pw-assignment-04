{
  "nbformat": 4,
  "nbformat_minor": 0,
  "metadata": {
    "colab": {
      "provenance": []
    },
    "kernelspec": {
      "name": "python3",
      "display_name": "Python 3"
    },
    "language_info": {
      "name": "python"
    }
  },
  "cells": [
    {
      "cell_type": "code",
      "execution_count": null,
      "metadata": {
        "id": "tdMCq_lOnZeO"
      },
      "outputs": [],
      "source": [
        "# Python Oops Questions"
      ]
    },
    {
      "cell_type": "markdown",
      "source": [
        "Q.1 What is Object-oriented programming(oop)?   \n",
        "\n",
        "ans. Object-Oriented Programming(oop) is a programming paradigm (a way of thinking about and structuring code) that organizes softwre design around data, or objects,rather than function and logic. An object can be defined as a data field that has unique attribute and brhaviour. OOP focuses on the data manipulated by the program rather than the logic required to manipulated the data.      \n",
        "\n",
        "Q.2 what is a class in oop?  \n",
        "\n",
        "ans. A class in oop is a blueprint or a template for creating objects.It defines the attributes(data) and methods(functions) that objects of that class will have. Think of it like a cookie cutter; the cookie cutter is the class, and the cookies you make from it are the objects."
      ],
      "metadata": {
        "id": "QoaWH-u0n_bf"
      }
    },
    {
      "cell_type": "markdown",
      "metadata": {
        "id": "a7ed2c91"
      },
      "source": [
        "Q.3 What is an object in oop?   \n",
        "\n",
        "ans. An object in OOP is an instance of a class. It is a concrete entity that has the attributes (data) and methods (functions) defined by its class. You can think of an object as a specific \"cookie\" created from the \"cookie cutter\" (class). Each object has its own state (values of its attributes) and can perform actions (call its methods).     \n",
        "\n",
        "Q.4  What is the difference between abstraction and encapsulation?     \n",
        "\n",
        "ans. Abstraction and encapsulation are two fundamental concepts in object-oriented programming, and while related, they serve different purposes:\n",
        "\n",
        "**Abstraction:**\n",
        "*   **Focus:** Hiding complexity and showing only essential features.\n",
        "*   **What it does:** It provides a simplified view of an object or system, focusing on \"what\" the object does rather than \"how\" it does it.\n",
        "*   **How it's achieved:** Often through abstract classes, interfaces, and defining methods without implementing them.\n",
        "*   **Goal:** To manage complexity by breaking down a system into smaller, more manageable parts and focusing on relevant details.\n",
        "\n",
        "**Encapsulation:**\n",
        "*   **Focus:** Bundling data and methods that operate on the data within a single unit (a class).\n",
        "*   **What it does:** It restricts direct access to some of an object's components, which means that the internal state of an object is hidden and protected from outside access.\n",
        "*   **How it's achieved:** Using access modifiers (like `private` or `protected` in some languages, though Python uses conventions like leading underscores) to control visibility.\n",
        "*   **Goal:** To protect the integrity of the data by preventing direct modification and to allow changes to the internal implementation without affecting the external interface.\n",
        "\n",
        "**Analogy:**\n",
        "\n",
        "Think of a car:\n",
        "*   **Abstraction:** You know how to drive a car (accelerate, brake, steer) without needing to understand the intricate details of how the engine, transmission, or braking system work. The steering wheel, pedals, and gear shift are the abstracted interface.\n",
        "*   **Encapsulation:** The engine, transmission, and other internal components are enclosed within the car's body. You can interact with them through the car's controls (the abstracted interface), but you can't directly access or tamper with the internal workings without opening the hood. The car's body encapsulates the internal machinery.\n",
        "\n",
        "In essence, abstraction is about simplifying the view, while encapsulation is about bundling and protecting the internal workings. Encapsulation is often a mechanism that helps achieve abstraction."
      ]
    },
    {
      "cell_type": "markdown",
      "metadata": {
        "id": "9100a0bd"
      },
      "source": [
        "Q.5 What are dunder methods in Python?\n",
        "\n",
        "Ans. Dunder methods (short for \"double underscore methods\") in Python are special methods that have double underscores at the beginning and end of their names, like `__init__`, `__str__`, `__add__`, etc. They are also sometimes called magic methods.\n",
        "\n",
        "These methods are not meant to be called directly by the programmer in most cases. Instead, they are invoked internally by Python in response to specific events or operations. For example:\n",
        "\n",
        "*   `__init__` is called when an object is created.\n",
        "*   `__str__` is called when you use the `str()` function or `print()` on an object.\n",
        "*   `__add__` is called when you use the `+` operator with objects of your class.\n",
        "\n",
        "Dunder methods allow you to define how objects of your class should behave when used with built-in Python operations and functions. They are a powerful tool for customizing the behavior of your objects and making them work seamlessly with the rest of the Python language.    \n",
        "\n",
        "Q.6  Explain the concept of inherintance in oop.\n",
        "\n",
        "ans. Inheritance is an Object-Oriented Programming(oop) concept where a class (child/derived class) can reuse thr properties and method of another class (parent/base class).  \n",
        "* It allows code reusability and represents an \"is-a\" relationship between classes.     \n",
        "Key Points:  \n",
        "1. The child class inherits data menbers (variables) and methods (functions) from the parent class.    \n",
        "2. The child class can:\n",
        "   * Use parent class features as they are.   \n",
        "   * Override parent methods to change behavior.\n",
        "   * Add new methods or attributes of its own.\n",
        "3. Helps in writing clean, reusable, and maintainable code.    \n",
        "\n",
        "Types of Inheritance in Python:\n",
        "1. Single Inheritance :- One child inherits from one parent.    \n",
        "2. Multiple Inheritance:- A child inherits from more than one parent.  \n",
        "3. Multilevel Inheritance :- A child inherits from a parent, which in turn inherits from another class.   \n",
        "4. Hierarchical Inheritance:- Multiple child classes inherit from the same parent.  \n",
        "5. Hybrid Inheritance:- combination of multiple inheritance types.  \n",
        "\n",
        "   \n"
      ]
    },
    {
      "cell_type": "code",
      "source": [
        "Example in Python\n",
        "# Parent Class\n",
        "class Animal:\n",
        "  def speak(self):\n",
        "     retuen \"This animal makes a sound.\"\n",
        "\n",
        "#child class\n",
        "class Dog (animal):\n",
        "   def speak(self):    #Overriding parent method\n",
        "       return\"woof! woof!\"\n",
        "\n",
        "#Another child class\n",
        "class cat (Animal) :\n",
        "  def speak(self) :\n",
        "      return \"Meow!\"\n",
        "\n",
        "# Using the classes\n",
        "dog = Dog()\n",
        "cat = cat()\n",
        "\n",
        "print(dog.speak())     #Output: Woof! Woof!\n",
        "print(cat.speak())     #Output: Meow!\n",
        "\n"
      ],
      "metadata": {
        "id": "zsVXOfZXjDVd"
      },
      "execution_count": null,
      "outputs": []
    },
    {
      "cell_type": "markdown",
      "source": [
        "Q.7 What is Polymorphism in OOP?\n",
        "Definition:\n",
        "* The Word Polymorphism comes from Greek:\n",
        "   *poly = many\n",
        "   *Morph = forms\n",
        "* In OOP, Polymorphism means the ability of different classes to respond to the same method name in different ways.   \n",
        "* It allow a single function, operator, or method to have multiple implementations.  \n",
        "Key Idea:  \n",
        "* One interface, multiple implemantations.\n",
        "* The exact behavior depends on the object that is calling the method.\n",
        "\n",
        "Types of Polymorphism in Python:   \n",
        "1. Compile-time Polymorphism(overloading)   \n",
        "* Having multiple method with the same name but different arguments.   \n",
        "* Note : Python doesn't support traditional overloading, but we can achive similar behavior Using default argument or *args.   \n",
        "2. Run-time Polymorphism(Overriding)\n",
        " * When a child class provides its own implementation of a method already defined in the parent class.    \n",
        "    \n",
        "\n"
      ],
      "metadata": {
        "id": "FoUWrDYwkvp2"
      }
    },
    {
      "cell_type": "code",
      "source": [
        "Example1: Method Oveeiding (Run-time Polymorphism)\n",
        "class Animal:\n",
        "  def speak(self):\n",
        "    return \"some sound\"\n",
        "\n",
        "class Dog(Animal) :\n",
        "  def speak(self) :\n",
        "    return \"woof!\"\n",
        "\n",
        "class Cat(Animal) :\n",
        "  def speak(self):\n",
        "    return \"Meow!\"\n",
        "\n",
        "# Same method name:- different outputs\n",
        "animals = [Dog(), Cat(), Animal()]\n",
        "for a in animals:\n",
        "  print(a.speak())\n",
        "\n",
        "  # Output\n",
        "  woof!\n",
        "  Meow!\n",
        "  Some sound\n",
        "\n",
        "  Example2: Polymorphism With Built-in Functions\n",
        "\n",
        "  print(len(\"Ritesh\"))    #len() works with string :- 6\n",
        "  print(len([1,2,3,4]))   #len() works with list :- 4"
      ],
      "metadata": {
        "id": "DomqOiiCpd7B"
      },
      "execution_count": null,
      "outputs": []
    },
    {
      "cell_type": "markdown",
      "source": [
        "Q.8 How is Encapsulation achieved in Python?  \n",
        "\n",
        "ans. * Encapulation = Wrapping up data (variables) and methods (functions) into a single unit (class).    \n",
        "* It also helps in restricting direct access to data by using access modifiers.   \n",
        "\n",
        "Ways to Achieve Encapsulation in Python:\n",
        "1. Using Classes\n",
        "  * class binds data(attributes) and methods together.\n",
        "  * Example: A car class containing both speed and drive().   \n",
        "2. Access Modifiers in python     \n",
        " Python does not have strict private/protected keywords like java or C++, but it achieves encapsulation through naming conventions:\n",
        "    * Public(default): Accessible everywhere."
      ],
      "metadata": {
        "id": "Lx07qD0QtaRE"
      }
    },
    {
      "cell_type": "code",
      "source": [
        "class car:\n",
        "  def__init__(self):\n",
        "     self.color = \"Red\"    # Public attribute\n",
        "car = car()\n",
        "print(car.color)    # Accessible\n",
        "\n",
        "* Protected(_var): Should not be accessed directly outside clas(convention).\n",
        "\n",
        "class car:\n",
        "  def_init_(self):\n",
        "    self._speed = 120    # Protected\n",
        "  car = Car()\n",
        "  print(car._speed)    # Possible, but discouraged\n",
        "\n",
        "  * Private(__var):Name mangling makes it harder to access from outside.\n",
        "\n",
        "    class Car:\n",
        "      def__init__(self):\n",
        "        self.__engine_number =\"ENG123\"   # Private\n",
        "  Car = Car()\n",
        "  # print(car._engine_number)   Error\n",
        "  print(car._Car__engine_number)  # Access through name mangling\n",
        "\n",
        "  3. Getter and Setter Methods\n",
        "  * Used to safely access or modify private variables.\n",
        "\n",
        "  class BankAccount :\n",
        "     def __init__(self,balance):\n",
        "        self.__balance =balance   # Private variable\n",
        "# Getter\n",
        "def get_balance(self):\n",
        "      return self.__balance\n",
        "# Setter\n",
        "def set_balance(self,amount):\n",
        "    if amount >= 0:\n",
        "       self.__balance = amount\n",
        "    else:\n",
        "      print(\"Invalid amount!\")\n",
        "acc = BankAccount(500)\n",
        "print(acc.get_balance())   # 500\n",
        "acc.set_balance(1000)      # updates balance\n",
        "print(acc.get_balance())   # 1000"
      ],
      "metadata": {
        "id": "V6DEgs4bw7DU"
      },
      "execution_count": null,
      "outputs": []
    },
    {
      "cell_type": "markdown",
      "source": [
        "Q.9 What is a constructor in python?"
      ],
      "metadata": {
        "id": "6WR-J6mU3f_j"
      }
    },
    {
      "cell_type": "markdown",
      "metadata": {
        "id": "1691c73f"
      },
      "source": [
        "Ans. In Python, a constructor is a special method within a class that is automatically called when an object of that class is created (instantiated). Its primary purpose is to initialize the object's attributes (data members) with starting values or to perform any setup required when an object is first brought into existence.\n",
        "\n",
        "The constructor method in Python is always named `__init__`. The `__init__` method:\n",
        "\n",
        "*   Starts and ends with double underscores (dunders).\n",
        "*   Takes `self` as its first parameter, which refers to the instance of the object being created.\n",
        "*   Can take additional parameters to receive initial values for the object's attributes.\n",
        "\n",
        "**Example:*"
      ]
    },
    {
      "cell_type": "code",
      "metadata": {
        "colab": {
          "base_uri": "https://localhost:8080/"
        },
        "id": "e5bac4a2",
        "outputId": "059e168d-5ae3-43ac-d981-8798137ee57c"
      },
      "source": [
        "class MyClass:\n",
        "  # This is the constructor\n",
        "  def __init__(self, value):\n",
        "    self.attribute = value\n",
        "\n",
        "# Creating an object of MyClass\n",
        "# The constructor __init__ is automatically called here\n",
        "obj = MyClass(10)\n",
        "\n",
        "# Accessing the attribute initialized by the constructor\n",
        "print(obj.attribute)"
      ],
      "execution_count": null,
      "outputs": [
        {
          "output_type": "stream",
          "name": "stdout",
          "text": [
            "10\n"
          ]
        }
      ]
    },
    {
      "cell_type": "markdown",
      "source": [
        "Q.10 What are class and Static Method in python?"
      ],
      "metadata": {
        "id": "Ch1j8rjD4syv"
      }
    },
    {
      "cell_type": "markdown",
      "metadata": {
        "id": "9e636562"
      },
      "source": [
        "## Class Methods and Static Methods in Python\n",
        "\n",
        "In Python, both class methods and static methods are alternative ways to define methods within a class, but they serve different purposes and have different ways of accessing and interacting with the class and its instances.\n",
        "\n",
        "### Class Methods\n",
        "\n",
        "*   **Definition:** A class method is a method that is bound to the class and not the instance of the class.\n",
        "*   **Decorator:** They are defined using the `@classmethod` decorator.\n",
        "*   **First Parameter:** The first parameter of a class method is conventionally named `cls`, which refers to the class itself (not the instance). This allows the class method to access and modify class-level attributes or call other class methods.\n",
        "*   **Use Cases:**\n",
        "    *   Alternative constructors: Class methods are often used to create factory methods that return an instance of the class in a different way than the standard `__init__` constructor.\n",
        "    *   Accessing or modifying class state: They can be used to access or modify attributes that belong to the class rather than a specific instance.\n",
        "\n",
        "### Static Methods\n",
        "\n",
        "*   **Definition:** A static method is a method that belongs to the class but does not access or modify either the class state or the instance state.\n",
        "*   **Decorator:** They are defined using the `@staticmethod` decorator.\n",
        "*   **Parameters:** They do not take `self` or `cls` as their first parameter. They behave like regular functions but are logically grouped within a class.\n",
        "*   **Use Cases:**\n",
        "    *   Utility functions: Static methods are often used for utility functions that perform a task related to the class but don't need access to any specific instance data or the class itself.\n",
        "    *   Encapsulation: They help in organizing functions within a class namespace.\n",
        "\n",
        "### Key Differences:\n",
        "\n",
        "| Feature          | Class Method (`@classmethod`)               | Static Method (`@staticmethod`)               |\n",
        "| :--------------- | :------------------------------------------ | :-------------------------------------------- |\n",
        "| Binding          | Bound to the class                          | Bound to the class                            |\n",
        "| First Parameter  | `cls` (refers to the class)                 | None (like a regular function)                |\n",
        "| Access to State  | Can access/modify class state               | Cannot access/modify class or instance state  |\n",
        "| Use Case         | Alternative constructors, class state ops | Utility functions, logical grouping         |\n",
        "\n",
        "Let's look at examples for both."
      ]
    },
    {
      "cell_type": "code",
      "metadata": {
        "colab": {
          "base_uri": "https://localhost:8080/"
        },
        "id": "54376bd1",
        "outputId": "35c58e97-f4bb-4917-d508-9ea026f25f57"
      },
      "source": [
        "class MyClass:\n",
        "    class_variable = \"I am a class variable\"\n",
        "\n",
        "    def __init__(self, instance_variable):\n",
        "        self.instance_variable = instance_variable\n",
        "\n",
        "    @classmethod\n",
        "    def class_method(cls, value):\n",
        "        # Accessing class variable using cls\n",
        "        print(f\"Accessing class variable from class method: {cls.class_variable}\")\n",
        "        # Creating a new instance using the class method\n",
        "        return cls(value)\n",
        "\n",
        "    @staticmethod\n",
        "    def static_method(x, y):\n",
        "        # Static methods don't access instance or class variables\n",
        "        print(\"I am a static method\")\n",
        "        return x + y\n",
        "\n",
        "# Using the class method as an alternative constructor\n",
        "obj1 = MyClass.class_method(\"Instance from class method\")\n",
        "print(f\"Instance variable of obj1: {obj1.instance_variable}\")\n",
        "\n",
        "# Calling the class method on an instance\n",
        "obj2 = MyClass(\"Regular instance\")\n",
        "obj2.class_method(\"Another instance from class method\")\n",
        "\n",
        "# Using the static method\n",
        "result = MyClass.static_method(5, 10)\n",
        "print(f\"Result of static method: {result}\")\n",
        "\n",
        "# Calling the static method on an instance (also works)\n",
        "result2 = obj1.static_method(2, 3)\n",
        "print(f\"Result of static method called on instance: {result2}\")"
      ],
      "execution_count": null,
      "outputs": [
        {
          "output_type": "stream",
          "name": "stdout",
          "text": [
            "Accessing class variable from class method: I am a class variable\n",
            "Instance variable of obj1: Instance from class method\n",
            "Accessing class variable from class method: I am a class variable\n",
            "I am a static method\n",
            "Result of static method: 15\n",
            "I am a static method\n",
            "Result of static method called on instance: 5\n"
          ]
        }
      ]
    },
    {
      "cell_type": "markdown",
      "source": [
        "Q.11 What is Method Overloading in Python?\n",
        "ans. * Method Overloading means having multiple methods with the same name but different parameters (like in java/c++)   \n",
        "* Python does not support true method overloading because:   \n",
        "* The latest defined method with same name will overwrite the previous ones.   \n",
        "How Python Handles It\n",
        "* Instead of true overloading, Python uses:\n",
        "1. Default arguments    \n",
        "2. Variable-length arguments(*args, **kwargs)   \n",
        "This way, a single method can handle different numbers of parameters.  \n",
        "\n",
        "\n",
        "\n",
        "\n"
      ],
      "metadata": {
        "id": "NMOqU5qP6AkQ"
      }
    },
    {
      "cell_type": "code",
      "source": [
        "# Example1: Default Arguments\n",
        "\n",
        "class Calculator:\n",
        "    def add(self, a=0, b=0, c=0):\n",
        "      return a+b+c\n",
        "calc = Calculator()\n",
        "print(calc.add(2))    #2\n",
        "print(calc.add(2,3))  #5\n",
        "print(calc.add(2,3,4))   #9"
      ],
      "metadata": {
        "colab": {
          "base_uri": "https://localhost:8080/"
        },
        "id": "elbkuRVe9GhD",
        "outputId": "ca475219-b06d-4c92-8106-9d28ff0064eb"
      },
      "execution_count": null,
      "outputs": [
        {
          "output_type": "stream",
          "name": "stdout",
          "text": [
            "2\n",
            "5\n",
            "9\n"
          ]
        }
      ]
    },
    {
      "cell_type": "markdown",
      "source": [
        "Q.12 What is Method Overriding in OOp?"
      ],
      "metadata": {
        "id": "1cWLBEwM-Sp5"
      }
    },
    {
      "cell_type": "markdown",
      "metadata": {
        "id": "e9451617"
      },
      "source": [
        "Method overriding is a concept in object-oriented programming where a subclass (child class) provides a specific implementation of a method that is already defined in its superclass (parent class).\n",
        "\n",
        "When a method is called on an object, the Python interpreter checks the object's class. If the method is found in the object's class, that implementation is used. If not, it looks up the class hierarchy to the parent class(es) until it finds an implementation of the method. Method overriding allows a subclass to customize or extend the behavior inherited from its superclass.\n",
        "\n",
        "**Key Points of Method Overriding:**\n",
        "\n",
        "*   **Same Method Signature:** The method in the subclass must have the same name, the same number of parameters, and the same order of parameters as the method in the superclass.\n",
        "*   **Inheritance:** Method overriding is only possible in the context of inheritance, where there is a parent-child class relationship.\n",
        "*   **Runtime Polymorphism:** Method overriding is a way to achieve runtime polymorphism in Python. This means that the decision of which method to call is made at runtime, based on the actual type of the object.\n",
        "\n",
        "**Example:**\n",
        "\n",
        "Consider a `Vehicle` class with a `start()` method. A `Car` class, which inherits from `Vehicle`, can override the `start()` method to provide its own specific starting behavior (e.g., turning a key vs. pushing a button)."
      ]
    },
    {
      "cell_type": "code",
      "metadata": {
        "colab": {
          "base_uri": "https://localhost:8080/"
        },
        "id": "7ca7e491",
        "outputId": "a475312c-f521-474c-a4da-757dd28f6560"
      },
      "source": [
        "class Vehicle:\n",
        "    def start(self):\n",
        "        print(\"Vehicle starting...\")\n",
        "\n",
        "class Car(Vehicle):\n",
        "    # Method overriding\n",
        "    def start(self):\n",
        "        print(\"Car starting with a key...\")\n",
        "\n",
        "class ElectricCar(Car):\n",
        "    # Method overriding (again)\n",
        "    def start(self):\n",
        "        print(\"Electric car starting with a button...\")\n",
        "\n",
        "# Create objects\n",
        "vehicle = Vehicle()\n",
        "car = Car()\n",
        "electric_car = ElectricCar()\n",
        "\n",
        "# Call the start method on different objects\n",
        "vehicle.start()\n",
        "car.start()\n",
        "electric_car.start()"
      ],
      "execution_count": null,
      "outputs": [
        {
          "output_type": "stream",
          "name": "stdout",
          "text": [
            "Vehicle starting...\n",
            "Car starting with a key...\n",
            "Electric car starting with a button...\n"
          ]
        }
      ]
    },
    {
      "cell_type": "markdown",
      "metadata": {
        "id": "a5bfa5be"
      },
      "source": [
        "Q.13 What is a Property Decorator in Python?\n",
        "\n",
        "In Python, the `@property` decorator is a built-in decorator that provides an easy way to use getters and setters for attributes of a class. It allows you to treat a method like an attribute.\n",
        "\n",
        "Essentially, it converts a class method into a \"property\" that can be accessed like a regular attribute without needing to call it as a function. This provides a clean and Pythonic way to manage access to your class's attributes, allowing you to add logic (like validation) when getting or setting an attribute's value.\n",
        "\n",
        "**Why use `@property`?**\n",
        "\n",
        "*   **Encapsulation:** It helps in achieving encapsulation by controlling access to attributes. You can make attributes \"private\" (by convention, using a leading underscore) and provide controlled access through getter, setter, and deleter methods.\n",
        "*   **Maintainability:** If you need to change how an attribute's value is computed or set in the future, you can do so within the getter/setter methods without changing the way the attribute is accessed from outside the class. This makes your code more maintainable.\n",
        "*   **Readability:** It makes the code more readable by allowing attribute access using dot notation (e.g., `obj.attribute`) instead of method calls (e.g., `obj.get_attribute()`).\n",
        "\n",
        "**How it works:**\n",
        "\n",
        "The `@property` decorator is used above a method that you want to act as a getter. You can then define corresponding methods for setting and deleting the property using the `@<property_name>.setter` and `@<property_name>.deleter` decorators.\n",
        "\n",
        "**Example:**"
      ]
    },
    {
      "cell_type": "code",
      "metadata": {
        "colab": {
          "base_uri": "https://localhost:8080/"
        },
        "id": "bf53bfe4",
        "outputId": "986db17e-b59a-41d9-d20f-bd38033d72e0"
      },
      "source": [
        "class Circle:\n",
        "    def __init__(self, radius):\n",
        "        self._radius = radius  # Using a leading underscore by convention\n",
        "\n",
        "    @property\n",
        "    def radius(self):\n",
        "        \"The radius property.\"\n",
        "        print(\"Getting radius\")\n",
        "        return self._radius\n",
        "\n",
        "    @radius.setter\n",
        "    def radius(self, value):\n",
        "        print(\"Setting radius\")\n",
        "        if value >= 0:\n",
        "            self._radius = value\n",
        "        else:\n",
        "            raise ValueError(\"Radius cannot be negative\")\n",
        "\n",
        "    @radius.deleter\n",
        "    def radius(self):\n",
        "        print(\"Deleting radius\")\n",
        "        del self._radius\n",
        "\n",
        "# Using the property\n",
        "c = Circle(5)\n",
        "\n",
        "# Accessing the property (calls the getter)\n",
        "print(f\"Initial radius: {c.radius}\")\n",
        "\n",
        "# Setting the property (calls the setter)\n",
        "c.radius = 10\n",
        "print(f\"New radius: {c.radius}\")\n",
        "\n",
        "# Trying to set an invalid value (calls the setter and raises an error)\n",
        "try:\n",
        "    c.radius = -5\n",
        "except ValueError as e:\n",
        "    print(f\"Error: {e}\")\n",
        "\n",
        "# Deleting the property (calls the deleter)\n",
        "del c.radius\n",
        "\n",
        "# Trying to access after deleting (will raise an AttributeError)\n",
        "try:\n",
        "    print(c.radius)\n",
        "except AttributeError as e:\n",
        "    print(f\"Error after deleting: {e}\")"
      ],
      "execution_count": null,
      "outputs": [
        {
          "output_type": "stream",
          "name": "stdout",
          "text": [
            "Getting radius\n",
            "Initial radius: 5\n",
            "Setting radius\n",
            "Getting radius\n",
            "New radius: 10\n",
            "Setting radius\n",
            "Error: Radius cannot be negative\n",
            "Deleting radius\n",
            "Getting radius\n",
            "Error after deleting: 'Circle' object has no attribute '_radius'\n"
          ]
        }
      ]
    },
    {
      "cell_type": "markdown",
      "metadata": {
        "id": "dfe7e469"
      },
      "source": [
        "Q.14 Why is Polymorphism Important in OOP?\n",
        "\n",
        "Polymorphism (meaning \"many forms\") is a core principle in Object-Oriented Programming that allows objects of different classes to be treated as objects of a common superclass. This is important for several reasons:\n",
        "\n",
        "1.  **Flexibility and Extensibility:** Polymorphism makes code more flexible and easier to extend. You can write code that operates on objects of a superclass, and that code will automatically work with objects of any subclass that overrides the relevant methods. This means you can add new classes (subclasses) without having to modify existing code that uses the superclass.\n",
        "\n",
        "2.  **Code Reusability:** By allowing a single interface (method name) to be used with different implementations (in subclasses), polymorphism promotes code reusability. You can write general code that works with a group of related objects, rather than writing specific code for each object type.\n",
        "\n",
        "3.  **Simplified Code:** Polymorphism can significantly simplify your code. Instead of using conditional statements (like `if-elif-else`) to determine the type of an object and call the appropriate method, you can simply call the same method name on different objects, and the correct implementation will be executed automatically based on the object's type.\n",
        "\n",
        "4.  **Improved Readability and Maintainability:** Polymorphic code is often more readable and easier to maintain because it reduces the need for complex conditional logic. Changes to the behavior of a specific object type can be made within its class without affecting other parts of the code.\n",
        "\n",
        "**Example Illustrating Flexibility:**\n",
        "\n",
        "Imagine you have a list of different animal objects (dogs, cats, etc.), each with a `speak()` method. Without polymorphism, you might need to check the type of each animal and call the corresponding speaking method:"
      ]
    },
    {
      "cell_type": "code",
      "metadata": {
        "colab": {
          "base_uri": "https://localhost:8080/"
        },
        "id": "6f56a373",
        "outputId": "49aaeec6-4a90-4d01-a877-963cadbe49b0"
      },
      "source": [
        "class Animal:\n",
        "    def speak(self):\n",
        "        pass  # Base implementation (can be overridden)\n",
        "\n",
        "class Dog(Animal):\n",
        "    def speak(self):\n",
        "        return \"Woof!\"\n",
        "\n",
        "class Cat(Animal):\n",
        "    def speak(self):\n",
        "        return \"Meow!\"\n",
        "\n",
        "class Cow(Animal):\n",
        "    def speak(self):\n",
        "        return \"Moo!\"\n",
        "\n",
        "animals = [Dog(), Cat(), Cow()]\n",
        "\n",
        "# Polymorphic call: The same method name causes different behavior\n",
        "for animal in animals:\n",
        "    print(animal.speak())"
      ],
      "execution_count": null,
      "outputs": [
        {
          "output_type": "stream",
          "name": "stdout",
          "text": [
            "Woof!\n",
            "Meow!\n",
            "Moo!\n"
          ]
        }
      ]
    },
    {
      "cell_type": "markdown",
      "metadata": {
        "id": "b6747ecf"
      },
      "source": [
        "Q.15 What is an Abstract Class in Python?\n",
        "\n",
        "In Object-Oriented Programming, an abstract class is a class that cannot be instantiated (you cannot create objects directly from it). Instead, it serves as a blueprint or a template for other classes (subclasses). Abstract classes are used to define a common interface for a group of related classes, ensuring that subclasses implement certain methods.\n",
        "\n",
        "**Key characteristics of abstract classes:**\n",
        "\n",
        "*   **Cannot be instantiated:** You cannot create an object directly from an abstract class. Attempting to do so will typically result in a `TypeError`.\n",
        "*   **Can contain abstract methods:** Abstract methods are methods declared in the abstract class but do not have an implementation. Subclasses are required to provide their own implementation for these abstract methods.\n",
        "*   **Can contain concrete methods:** Abstract classes can also have regular methods with implementations.\n",
        "*   **Used for defining interfaces:** They define a common set of methods that all concrete subclasses must implement.\n",
        "\n",
        "**Why use Abstract Classes?**\n",
        "\n",
        "*   **Enforce structure:** They enforce a specific structure on subclasses, ensuring that they implement necessary methods.\n",
        "*   **Code reusability:** They can contain common methods that can be reused by subclasses.\n",
        "*   **Define contracts:** They define a contract that subclasses must adhere to.\n",
        "\n",
        "**Abstract Base Classes (ABCs) in Python:**\n",
        "\n",
        "Python doesn't have built-in abstract classes like some other languages (e.g., Java). However, it provides the `abc` module (Abstract Base Classes) to create abstract classes and methods.\n",
        "\n",
        "To create an abstract class, you inherit from `ABC` from the `abc` module. To define an abstract method within an abstract class, you use the `@abstractmethod` decorator from the `abc` module.\n",
        "\n",
        "**Example:**"
      ]
    },
    {
      "cell_type": "code",
      "metadata": {
        "colab": {
          "base_uri": "https://localhost:8080/"
        },
        "id": "47a59458",
        "outputId": "d0524620-929b-434c-a412-c4d909535792"
      },
      "source": [
        "from abc import ABC, abstractmethod\n",
        "\n",
        "class Animal(ABC):  # Inheriting from ABC makes it an abstract class\n",
        "    @abstractmethod\n",
        "    def speak(self):\n",
        "        # Abstract method - no implementation\n",
        "        pass\n",
        "\n",
        "    def sleep(self):\n",
        "        # Concrete method - has implementation\n",
        "        print(\"This animal is sleeping.\")\n",
        "\n",
        "class Dog(Animal):\n",
        "    def speak(self):\n",
        "        # Must implement the abstract method\n",
        "        return \"Woof!\"\n",
        "\n",
        "class Cat(Animal):\n",
        "    def speak(self):\n",
        "        # Must implement the abstract method\n",
        "        return \"Meow!\"\n",
        "\n",
        "# Trying to instantiate the abstract class will raise an error\n",
        "# try:\n",
        "#     generic_animal = Animal()\n",
        "# except TypeError as e:\n",
        "#     print(f\"Error: {e}\")\n",
        "\n",
        "# Instantiating concrete subclasses\n",
        "dog = Dog()\n",
        "cat = Cat()\n",
        "\n",
        "print(dog.speak())\n",
        "dog.sleep()\n",
        "\n",
        "print(cat.speak())\n",
        "cat.sleep()"
      ],
      "execution_count": null,
      "outputs": [
        {
          "output_type": "stream",
          "name": "stdout",
          "text": [
            "Woof!\n",
            "This animal is sleeping.\n",
            "Meow!\n",
            "This animal is sleeping.\n"
          ]
        }
      ]
    },
    {
      "cell_type": "markdown",
      "metadata": {
        "id": "c0364045"
      },
      "source": [
        "Q.16 What are the Advantages of Object-Oriented Programming (OOP)?\n",
        "\n",
        "Object-Oriented Programming (OOP) is a widely used programming paradigm due to the numerous benefits it offers in software development. Here are some of the key advantages:\n",
        "\n",
        "1.  **Modularity:** OOP allows you to break down complex systems into smaller, self-contained objects. Each object represents a distinct part of the system with its own data and behavior. This modularity makes the code easier to understand, manage, and debug.\n",
        "\n",
        "2.  **Reusability:** Through concepts like inheritance, you can create new classes that reuse the properties and behaviors of existing classes. This reduces code duplication and speeds up development.\n",
        "\n",
        "3.  **Flexibility and Extensibility:** Polymorphism allows objects of different classes to be treated uniformly. This makes the code more flexible and easier to extend, as you can add new classes without modifying existing code that uses the common interface.\n",
        "\n",
        "4.  **Maintainability:** The modular and organized nature of OOP makes code easier to maintain. Changes to one part of the system are less likely to affect other parts, and debugging becomes more straightforward.\n",
        "\n",
        "5.  **Abstraction:** OOP allows you to hide the complex implementation details of an object and expose only the essential features. This simplifies the user's interaction with the object and reduces the cognitive load.\n",
        "\n",
        "6.  **Encapsulation:** Encapsulation bundles data and the methods that operate on that data within a single unit (a class). This protects the data from unauthorized access and modification, ensuring data integrity.\n",
        "\n",
        "7.  **Improved Collaboration:** In large projects, OOP facilitates collaboration among developers. By defining clear interfaces and responsibilities for each object, teams can work on different parts of the system independently.\n",
        "\n",
        "8.  **Faster Development:** Due to code reusability and modularity, OOP can often lead to faster development times, especially in large and complex projects.\n",
        "\n",
        "In summary, OOP promotes better organization, reusability, flexibility, and maintainability, which are crucial for developing robust and scalable software applications."
      ]
    },
    {
      "cell_type": "markdown",
      "metadata": {
        "id": "8ccfcbd0"
      },
      "source": [
        "Q.17 What is the difference between a Class Variable and an Instance Variable?\n",
        "\n",
        "In Python, both class variables and instance variables are used to store data within a class, but they differ in how they are defined, accessed, and the scope of their values.\n",
        "\n",
        "**Class Variables:**\n",
        "\n",
        "*   **Definition:** Class variables are defined directly within the class definition, outside of any methods. They are associated with the class itself, not with any specific instance of the class.\n",
        "*   **Scope:** They are shared among all instances of the class. If you change the value of a class variable through one instance or the class name, the change will be reflected in all other instances.\n",
        "*   **Access:** They are typically accessed using the class name (e.g., `ClassName.class_variable`) or through an instance of the class (e.g., `instance.class_variable`), although accessing via the class name is the preferred way for clarity when modifying.\n",
        "*   **Use Cases:** Class variables are often used for attributes that are common to all instances of a class, such as constants, default values, or counters.\n",
        "\n",
        "**Instance Variables:**\n",
        "\n",
        "*   **Definition:** Instance variables are defined within the methods of a class, typically within the `__init__` constructor using the `self` keyword (e.g., `self.instance_variable`). They are unique to each instance of the class.\n",
        "*   **Scope:** Each instance of the class has its own copy of the instance variables. Changes to an instance variable in one instance do not affect the value of the same instance variable in other instances.\n",
        "*   **Access:** They are accessed using an instance of the class (e.g., `instance.instance_variable`).\n",
        "*   **Use Cases:** Instance variables are used to store data that is specific to each individual object created from the class, such as name, age, balance, etc.\n",
        "\n",
        "**Analogy:**\n",
        "\n",
        "Think of a blueprint for a house (the class).\n",
        "*   A **class variable** would be something like the standard number of bedrooms defined in the blueprint – it's a property of the blueprint itself and applies to all houses built from it. If the blueprint is updated to have a different standard number of bedrooms, all new houses built from that blueprint will have the new number.\n",
        "*   An **instance variable** would be something like the specific color of the walls in a *particular* house built from that blueprint. Each house can have different wall colors, and changing the wall color in one house doesn't change it in another.\n",
        "\n",
        "**Example:**"
      ]
    },
    {
      "cell_type": "code",
      "metadata": {
        "colab": {
          "base_uri": "https://localhost:8080/"
        },
        "id": "a247c7a3",
        "outputId": "ab237d7d-d346-44c2-d376-e036670d83f9"
      },
      "source": [
        "class Dog:\n",
        "    # Class variable (shared by all instances)\n",
        "    species = \"Canis familiaris\"\n",
        "\n",
        "    def __init__(self, name, age):\n",
        "        # Instance variables (unique to each instance)\n",
        "        self.name = name\n",
        "        self.age = age\n",
        "\n",
        "# Creating instances of the Dog class\n",
        "dog1 = Dog(\"Buddy\", 3)\n",
        "dog2 = Dog(\"Lucy\", 5)\n",
        "\n",
        "# Accessing class variable\n",
        "print(f\"Dog species (from class): {Dog.species}\")\n",
        "print(f\"Dog species (from instance 1): {dog1.species}\")\n",
        "print(f\"Dog species (from instance 2): {dog2.species}\")\n",
        "\n",
        "# Accessing instance variables\n",
        "print(f\"{dog1.name} is {dog1.age} years old.\")\n",
        "print(f\"{dog2.name} is {dog2.age} years old.\")\n",
        "\n",
        "# Changing the class variable\n",
        "Dog.species = \"Canis lupus familiaris\"\n",
        "\n",
        "print(f\"\\nAfter changing class variable:\")\n",
        "print(f\"Dog species (from class): {Dog.species}\")\n",
        "print(f\"Dog species (from instance 1): {dog1.species}\")\n",
        "print(f\"Dog species (from instance 2): {dog2.species}\")\n",
        "\n",
        "# Changing an instance variable\n",
        "dog1.age = 4\n",
        "print(f\"\\nAfter changing instance variable for dog1:\")\n",
        "print(f\"{dog1.name} is {dog1.age} years old.\")\n",
        "print(f\"{dog2.name} is {dog2.age} years old.\") # Note: dog2's age remains unchanged"
      ],
      "execution_count": null,
      "outputs": [
        {
          "output_type": "stream",
          "name": "stdout",
          "text": [
            "Dog species (from class): Canis familiaris\n",
            "Dog species (from instance 1): Canis familiaris\n",
            "Dog species (from instance 2): Canis familiaris\n",
            "Buddy is 3 years old.\n",
            "Lucy is 5 years old.\n",
            "\n",
            "After changing class variable:\n",
            "Dog species (from class): Canis lupus familiaris\n",
            "Dog species (from instance 1): Canis lupus familiaris\n",
            "Dog species (from instance 2): Canis lupus familiaris\n",
            "\n",
            "After changing instance variable for dog1:\n",
            "Buddy is 4 years old.\n",
            "Lucy is 5 years old.\n"
          ]
        }
      ]
    },
    {
      "cell_type": "markdown",
      "metadata": {
        "id": "810dfa3e"
      },
      "source": [
        "Q.18 What is multiple inheritance in Python?\n",
        "\n",
        "Multiple inheritance is a feature in object-oriented programming where a class can inherit attributes and methods from more than one parent class. This allows a child class to combine the characteristics and behaviors of multiple base classes.\n",
        "\n",
        "In Python, you can define a class with multiple parent classes by listing them in the parentheses after the class name, separated by commas.\n",
        "\n",
        "**Syntax:**"
      ]
    },
    {
      "cell_type": "code",
      "metadata": {
        "colab": {
          "base_uri": "https://localhost:8080/"
        },
        "id": "dae6bd66",
        "outputId": "5025062b-8e58-47d6-9168-603888621c43"
      },
      "source": [
        "class Flyable:\n",
        "    def fly(self):\n",
        "        return \"I can fly!\"\n",
        "\n",
        "class Swimmable:\n",
        "    def swim(self):\n",
        "        return \"I can swim!\"\n",
        "\n",
        "class Duck(Flyable, Swimmable):\n",
        "    def quack(self):\n",
        "        return \"Quack!\"\n",
        "\n",
        "# Create a Duck object\n",
        "duck = Duck()\n",
        "\n",
        "# The Duck object can use methods from both parent classes\n",
        "print(duck.fly())\n",
        "print(duck.swim())\n",
        "print(duck.quack())\n",
        "\n",
        "# You can also see the Method Resolution Order (MRO)\n",
        "print(Duck.__mro__)"
      ],
      "execution_count": null,
      "outputs": [
        {
          "output_type": "stream",
          "name": "stdout",
          "text": [
            "I can fly!\n",
            "I can swim!\n",
            "Quack!\n",
            "(<class '__main__.Duck'>, <class '__main__.Flyable'>, <class '__main__.Swimmable'>, <class 'object'>)\n"
          ]
        }
      ]
    },
    {
      "cell_type": "markdown",
      "metadata": {
        "id": "9edd29f8"
      },
      "source": [
        "Q.19 Explain the purpose of \"__str__\" and \"__repr__\" methods in Python?\n",
        "\n",
        "In Python, the `__str__` and `__repr__` methods are special \"dunder\" (double underscore) methods that you can define within a class to control how objects of that class are represented as strings. They provide ways to get a string representation of an object, but they serve different purposes and are used in different contexts.\n",
        "\n",
        "**`__str__` method:**\n",
        "\n",
        "*   **Purpose:** The primary purpose of `__str__` is to return a human-readable string representation of an object. It's intended for end-users who want a clear and informative description of the object.\n",
        "*   **When it's called:**\n",
        "    *   When you use the `str()` built-in function on an object.\n",
        "    *   When you use the `print()` function on an object (which internally calls `str()`).\n",
        "    *   When you use f-strings or the `.format()` method to embed an object in a string.\n",
        "*   **Goal:** To be readable and understandable. The output doesn't necessarily need to be unambiguous or machine-parsable.\n",
        "\n",
        "**`__repr__` method:**\n",
        "\n",
        "*   **Purpose:** The primary purpose of `__repr__` is to return an \"official\" or unambiguous string representation of an object. It's intended primarily for developers and is often used for debugging and development. The goal is to provide a string that, if evaluated (e.g., in a Python interpreter), would recreate the object or at least provide enough information to do so.\n",
        "*   **When it's called:**\n",
        "    *   When you use the `repr()` built-in function on an object.\n",
        "    *   When you type an object's name in an interactive Python interpreter and press Enter.\n",
        "    *   When you use f-strings with the `!r` conversion flag (e.g., `f'{obj!r}'`).\n",
        "*   **Goal:** To be unambiguous and ideally, to be a valid Python expression that could recreate the object.\n",
        "\n",
        "**Relationship between `__str__` and `__repr__`:**\n",
        "\n",
        "*   If you define both `__str__` and `__repr__`, `str()` will call `__str__` and `repr()` will call `__repr__`.\n",
        "*   If you only define `__repr__` and not `__str__`, calling `str()` on the object will fall back to calling `__repr__`.\n",
        "*   If you only define `__str__` and not `__repr__`, calling `repr()` on the object will use the default `__repr__` provided by Python (which is usually not very informative, showing the object's class and memory address).\n",
        "\n",
        "**Best Practice:**\n",
        "\n",
        "It's generally recommended to always define `__repr__` for your custom classes, as it's valuable for debugging. If you also want a separate, more user-friendly representation, then define `__str__` as well.\n",
        "\n",
        "**Example:**"
      ]
    },
    {
      "cell_type": "code",
      "metadata": {
        "colab": {
          "base_uri": "https://localhost:8080/"
        },
        "id": "64f72cda",
        "outputId": "a2947936-bd9c-414a-ec8d-caf1183c6a93"
      },
      "source": [
        " class Point:\n",
        "    def __init__(self, x, y):\n",
        "        self.x = x\n",
        "        self.y = y\n",
        "\n",
        "    def __str__(self):\n",
        "        # Human-readable representation\n",
        "        return f\"({self.x}, {self.y})\"\n",
        "\n",
        "    def __repr__(self):\n",
        "        # Unambiguous representation for developers\n",
        "        return f\"Point(x={self.x}, y={self.y})\"\n",
        "\n",
        "# Create a Point object\n",
        "p = Point(1, 2)\n",
        "\n",
        "# Using str() and print() (calls __str__)\n",
        "print(str(p))\n",
        "print(p)\n",
        "\n",
        "# Using repr() (calls __repr__)\n",
        "print(repr(p))\n",
        "\n",
        "# In an interactive interpreter, just typing 'p' would call __repr__\n",
        "# Output would be: Point(x=1, y=2)"
      ],
      "execution_count": null,
      "outputs": [
        {
          "output_type": "stream",
          "name": "stdout",
          "text": [
            "(1, 2)\n",
            "(1, 2)\n",
            "Point(x=1, y=2)\n"
          ]
        }
      ]
    },
    {
      "cell_type": "markdown",
      "metadata": {
        "id": "3d8760e6"
      },
      "source": [
        "Q.20 What is the significance of the 'super()' function in Python?\n",
        "\n",
        "In Python, the `super()` function is used to refer to the parent class (or superclass) of a class. It allows you to access methods and attributes of the parent class from within a child class.\n",
        "\n",
        "The primary use cases for `super()` are:\n",
        "\n",
        "1.  **Calling the parent class's constructor (`__init__`)**: This is the most common use case. When a child class overrides the `__init__` method, it's often necessary to call the parent class's `__init__` to ensure that the parent class's attributes are properly initialized.\n",
        "2.  **Calling parent class methods**: You can use `super()` to call other methods of the parent class that have been overridden in the child class. This allows you to extend the functionality of the parent method rather than completely replacing it.\n",
        "3.  **Working with multiple inheritance**: In scenarios with multiple inheritance, `super()` helps in correctly calling methods in the Method Resolution Order (MRO).\n",
        "\n",
        "**Why use `super()`?**\n",
        "\n",
        "*   **Maintainability:** Using `super()` makes your code more maintainable. If you change the name of the parent class, you don't need to update the child class's code that calls the parent's methods.\n",
        "*   **Flexibility:** It provides a flexible way to call methods from the parent class, allowing you to build upon or modify the parent's behavior.\n",
        "*   **Correctness in multiple inheritance:** In complex inheritance hierarchies, especially with multiple inheritance, `super()` ensures that methods are called in the correct order according to the MRO.\n",
        "\n",
        "**Syntax:**\n",
        "\n",
        "The basic syntax for calling a parent method using `super()` is:"
      ]
    },
    {
      "cell_type": "code",
      "metadata": {
        "colab": {
          "base_uri": "https://localhost:8080/"
        },
        "id": "70a25319",
        "outputId": "deb3a3f2-8b44-4530-ef7d-a14b088e706d"
      },
      "source": [
        "class Parent:\n",
        "    def __init__(self, name):\n",
        "        self.name = name\n",
        "        print(f\"Parent __init__ called for {self.name}\")\n",
        "\n",
        "    def greet(self):\n",
        "        print(f\"Hello from Parent, {self.name}\")\n",
        "\n",
        "class Child(Parent):\n",
        "    def __init__(self, name, age):\n",
        "        # Call the parent class's __init__ using super()\n",
        "        super().__init__(name)\n",
        "        self.age = age\n",
        "        print(f\"Child __init__ called for {self.name}, age {self.age}\")\n",
        "\n",
        "    def greet(self):\n",
        "        # Call the parent class's greet method using super()\n",
        "        super().greet()\n",
        "        print(f\"Hello from Child, {self.name}\")\n",
        "\n",
        "# Create a Child object\n",
        "child = Child(\"Alice\", 30)\n",
        "\n",
        "# Call the overridden greet method\n",
        "child.greet()"
      ],
      "execution_count": null,
      "outputs": [
        {
          "output_type": "stream",
          "name": "stdout",
          "text": [
            "Parent __init__ called for Alice\n",
            "Child __init__ called for Alice, age 30\n",
            "Hello from Parent, Alice\n",
            "Hello from Child, Alice\n"
          ]
        }
      ]
    },
    {
      "cell_type": "markdown",
      "metadata": {
        "id": "bc3eead5"
      },
      "source": [
        "Q.21 What is the significance of the '__del__' method in Python?\n",
        "\n",
        "In Python, the `__del__` method, also known as the destructor, is a special method that is called when an object is about to be garbage collected. It's not the opposite of `__init__` (the constructor), and its primary purpose is for resource cleanup.\n",
        "\n",
        "**Key points about `__del__`:**\n",
        "\n",
        "*   **Called during garbage collection:** Python's garbage collector is responsible for automatically reclaiming memory used by objects that are no longer referenced. The `__del__` method is called just before an object's memory is reclaimed.\n",
        "*   **Not guaranteed to be called:** The timing of garbage collection is not strictly defined and can vary. Therefore, there's no guarantee that `__del__` will be called for every object, especially when the program exits normally.\n",
        "*   **Used for resource cleanup:** The main use case for `__del__` is to perform cleanup operations for external resources that the object might be holding, such as closing file handles, network connections, or releasing locks.\n",
        "*   **Avoid complex logic:** It's generally discouraged to put complex logic or operations that could raise exceptions within `__del__`, as exceptions raised during garbage collection can lead to unexpected behavior.\n",
        "*   **Better alternatives for cleanup:** For most resource management tasks, context managers (using `with` statements) or explicit `close()` methods are preferred over `__del__` because they provide more predictable and reliable cleanup.\n",
        "\n",
        "**Example:**"
      ]
    },
    {
      "cell_type": "code",
      "metadata": {
        "colab": {
          "base_uri": "https://localhost:8080/"
        },
        "id": "9d699b03",
        "outputId": "d7146974-ab21-41ff-ed60-440f9f65fedc"
      },
      "source": [
        "class MyResource:\n",
        "    def __init__(self, name):\n",
        "        self.name = name\n",
        "        print(f\"Resource '{self.name}' created.\")\n",
        "        # Simulate acquiring an external resource\n",
        "        self.file = open(f\"{self.name}.txt\", \"w\")\n",
        "        self.file.write(\"This is some data.\\n\")\n",
        "\n",
        "    def __del__(self):\n",
        "        print(f\"Resource '{self.name}' is being deleted.\")\n",
        "        # Simulate releasing the external resource\n",
        "        if hasattr(self, 'file') and not self.file.closed:\n",
        "            print(f\"Closing file for resource '{self.name}'.\")\n",
        "            self.file.close()\n",
        "\n",
        "# Create an object\n",
        "resource1 = MyResource(\"file1\")\n",
        "\n",
        "# When resource1 is no longer referenced, __del__ might be called\n",
        "# (Exact timing is not guaranteed)\n",
        "del resource1\n",
        "\n",
        "# Create another object\n",
        "resource2 = MyResource(\"file2\")\n",
        "\n",
        "# Program exit might or might not call __del__ for resource2\n",
        "# depending on garbage collection behavior"
      ],
      "execution_count": null,
      "outputs": [
        {
          "output_type": "stream",
          "name": "stdout",
          "text": [
            "Resource 'file1' created.\n",
            "Resource 'file1' is being deleted.\n",
            "Closing file for resource 'file1'.\n",
            "Resource 'file2' created.\n"
          ]
        }
      ]
    },
    {
      "cell_type": "markdown",
      "metadata": {
        "id": "09c41d4c"
      },
      "source": [
        "Q.22 What is the difference between @staticmethod and @classmethod in python?\n",
        "\n",
        "In Python, both class methods and static methods are alternative ways to define methods within a class, but they serve different purposes and have different ways of accessing and interacting with the class and its instances.\n",
        "\n",
        "### Class Methods\n",
        "\n",
        "*   **Definition:** A class method is a method that is bound to the class and not the instance of the class.\n",
        "*   **Decorator:** They are defined using the `@classmethod` decorator.\n",
        "*   **First Parameter:** The first parameter of a class method is conventionally named `cls`, which refers to the class itself (not the instance). This allows the class method to access and modify class-level attributes or call other class methods.\n",
        "*   **Use Cases:**\n",
        "    *   Alternative constructors: Class methods are often used to create factory methods that return an instance of the class in a different way than the standard `__init__` constructor.\n",
        "    *   Accessing or modifying class state: They can be used to access or modify attributes that belong to the class rather than a specific instance.\n",
        "\n",
        "### Static Methods\n",
        "\n",
        "*   **Definition:** A static method is a method that belongs to the class but does not access or modify either the class state or the instance state.\n",
        "*   **Decorator:** They are defined using the `@staticmethod` decorator.\n",
        "*   **Parameters:** They do not take `self` or `cls` as their first parameter. They behave like regular functions but are logically grouped within a class.\n",
        "*   **Use Cases:**\n",
        "    *   Utility functions: Static methods are often used for utility functions that perform a task related to the class but don't need access to any specific instance data or the class itself.\n",
        "    *   Encapsulation: They help in organizing functions within a class namespace.\n",
        "\n",
        "### Key Differences:\n",
        "\n",
        "| Feature          | Class Method (`@classmethod`)               | Static Method (`@staticmethod`)               |\n",
        "| :--------------- | :------------------------------------------ | :-------------------------------------------- |\n",
        "| Binding          | Bound to the class                          | Bound to the class                            |\n",
        "| First Parameter  | `cls` (refers to the class)                 | None (like a regular function)                |\n",
        "| Access to State  | Can access/modify class state               | Cannot access/modify class or instance state  |\n",
        "| Use Case         | Alternative constructors, class state ops | Utility functions, logical grouping         |\n",
        "\n",
        "Let's look at examples for both."
      ]
    },
    {
      "cell_type": "code",
      "metadata": {
        "colab": {
          "base_uri": "https://localhost:8080/"
        },
        "id": "d237ac57",
        "outputId": "76022745-ff84-464f-e156-a6531c012746"
      },
      "source": [
        "class MyClass:\n",
        "    class_variable = \"I am a class variable\"\n",
        "\n",
        "    def __init__(self, instance_variable):\n",
        "        self.instance_variable = instance_variable\n",
        "\n",
        "    @classmethod\n",
        "    def class_method(cls, value):\n",
        "        # Accessing class variable using cls\n",
        "        print(f\"Accessing class variable from class method: {cls.class_variable}\")\n",
        "        # Creating a new instance using the class method\n",
        "        return cls(value)\n",
        "\n",
        "    @staticmethod\n",
        "    def static_method(x, y):\n",
        "        # Static methods don't access instance or class variables\n",
        "        print(\"I am a static method\")\n",
        "        return x + y\n",
        "\n",
        "# Using the class method as an alternative constructor\n",
        "obj1 = MyClass.class_method(\"Instance from class method\")\n",
        "print(f\"Instance variable of obj1: {obj1.instance_variable}\")\n",
        "\n",
        "# Calling the class method on an instance\n",
        "obj2 = MyClass(\"Regular instance\")\n",
        "obj2.class_method(\"Another instance from class method\")\n",
        "\n",
        "# Using the static method\n",
        "result = MyClass.static_method(5, 10)\n",
        "print(f\"Result of static method: {result}\")\n",
        "\n",
        "# Calling the static method on an instance (also works)\n",
        "result2 = obj1.static_method(2, 3)\n",
        "print(f\"Result of static method called on instance: {result2}\")"
      ],
      "execution_count": null,
      "outputs": [
        {
          "output_type": "stream",
          "name": "stdout",
          "text": [
            "Accessing class variable from class method: I am a class variable\n",
            "Instance variable of obj1: Instance from class method\n",
            "Accessing class variable from class method: I am a class variable\n",
            "I am a static method\n",
            "Result of static method: 15\n",
            "I am a static method\n",
            "Result of static method called on instance: 5\n"
          ]
        }
      ]
    },
    {
      "cell_type": "markdown",
      "metadata": {
        "id": "2da08782"
      },
      "source": [
        "Q.23 How does polymorphism work in Python with inheritance?\n",
        "\n",
        "Polymorphism, in the context of inheritance in Python, means that objects of different classes can be treated as objects of a common superclass. This allows you to write code that is more flexible and can work with a variety of related objects.\n",
        "\n",
        "Here's how it works:\n",
        "\n",
        "1.  **Inheritance provides the \"is-a\" relationship:** When a class inherits from another class, it establishes an \"is-a\" relationship. For example, a `Dog` \"is a\" `Animal`, and a `Cat` \"is a\" `Animal`. This means that a `Dog` object and a `Cat` object are both types of `Animal` objects.\n",
        "\n",
        "2.  **Method Overriding enables different behaviors:** Polymorphism is often achieved through method overriding. When a subclass provides its own implementation of a method that is already defined in its superclass, you can call that method on an object, and the specific implementation for that object's class will be executed.\n",
        "\n",
        "3.  **Common Interface:** The superclass defines a common interface (a set of methods) that its subclasses can implement. Although the implementation of these methods may differ in each subclass, they all share the same method name.\n",
        "\n",
        "4.  **Runtime Binding:** Python uses runtime binding (also known as dynamic dispatch). This means that when a method is called on an object, the Python interpreter determines which specific method implementation to execute based on the *actual type* of the object at runtime, not the type of the variable holding the object.\n",
        "\n",
        "**Example:**\n",
        "\n",
        "Consider the `Animal` class and its subclasses (`Dog`, `Cat`, `Cow`) with a `speak()` method that we saw earlier."
      ]
    },
    {
      "cell_type": "code",
      "metadata": {
        "colab": {
          "base_uri": "https://localhost:8080/"
        },
        "id": "6be46e1d",
        "outputId": "53ee78c4-7d26-402a-c2e2-2755919fccf6"
      },
      "source": [
        "class Animal:\n",
        "    def speak(self):\n",
        "        pass  # Base implementation (can be overridden)\n",
        "\n",
        "class Dog(Animal):\n",
        "    def speak(self):\n",
        "        return \"Woof!\"\n",
        "\n",
        "class Cat(Animal):\n",
        "    def speak(self):\n",
        "        return \"Meow!\"\n",
        "\n",
        "class Cow(Animal):\n",
        "    def speak(self):\n",
        "        return \"Moo!\"\n",
        "\n",
        "# Create a list of different animal objects\n",
        "animals = [Dog(), Cat(), Cow()]\n",
        "\n",
        "# Iterate through the list and call the 'speak' method on each object\n",
        "# Due to polymorphism, the correct 'speak' method for each animal type is called\n",
        "for animal in animals:\n",
        "    print(animal.speak())"
      ],
      "execution_count": null,
      "outputs": [
        {
          "output_type": "stream",
          "name": "stdout",
          "text": [
            "Woof!\n",
            "Meow!\n",
            "Moo!\n"
          ]
        }
      ]
    },
    {
      "cell_type": "markdown",
      "metadata": {
        "id": "edbb7b48"
      },
      "source": [
        "In this example:\n",
        "\n",
        "*   The `Animal` class provides a common interface with the `speak()` method.\n",
        "*   The `Dog`, `Cat`, and `Cow` subclasses inherit from `Animal` and provide their own specific implementations of the `speak()` method (method overriding).\n",
        "*   When we iterate through the `animals` list, even though the variable `animal` is treated as an `Animal` object, Python's runtime binding ensures that the correct `speak()` method for the actual object type (Dog, Cat, or Cow) is called.\n",
        "\n",
        "This demonstrates how polymorphism, combined with inheritance and method overriding, allows you to write flexible and extensible code that can handle objects of different types through a common interface."
      ]
    },
    {
      "cell_type": "markdown",
      "metadata": {
        "id": "9a356199"
      },
      "source": [
        "Q.24 What is Method Chaining in Python OOP?\n",
        "\n",
        "Method chaining is a programming technique where multiple method calls are strung together on a single object. This is possible when a method returns the object itself (or another object that can also have methods called on it). This allows you to perform a series of operations on an object in a single line of code, making the code more concise and sometimes more readable.\n",
        "\n",
        "**How it works:**\n",
        "\n",
        "For a method to be part of a chain, it must return the object on which it was called, or an object that supports further method calls. The most common pattern is for methods that modify the object's state to return `self`.\n",
        "\n",
        "**Example:**\n",
        "\n",
        "A classic example is string manipulation in Python, where methods like `.replace()`, `.lower()`, `.upper()`, etc., return a new string object, allowing you to chain these calls.\n",
        "\n",
        "In your own classes, you can enable method chaining by having your methods return `self`."
      ]
    },
    {
      "cell_type": "code",
      "metadata": {
        "colab": {
          "base_uri": "https://localhost:8080/"
        },
        "id": "85cc1f28",
        "outputId": "5ee959e9-0176-4b77-e079-b664db81267a"
      },
      "source": [
        "# Example with built-in string methods\n",
        "my_string = \"  Hello World!  \"\n",
        "processed_string = my_string.strip().lower().replace(\"hello\", \"hi\")\n",
        "print(processed_string)\n",
        "\n",
        "# Example with a custom class\n",
        "class Calculator:\n",
        "    def __init__(self, value=0):\n",
        "        self.value = value\n",
        "\n",
        "    def add(self, amount):\n",
        "        self.value += amount\n",
        "        return self  # Return self to enable chaining\n",
        "\n",
        "    def multiply(self, factor):\n",
        "        self.value *= factor\n",
        "        return self  # Return self to enable chaining\n",
        "\n",
        "    def get_value(self):\n",
        "        return self.value\n",
        "\n",
        "# Using method chaining with the custom class\n",
        "result = Calculator(10).add(5).multiply(2).get_value()\n",
        "print(result)"
      ],
      "execution_count": null,
      "outputs": [
        {
          "output_type": "stream",
          "name": "stdout",
          "text": [
            "hi world!\n",
            "30\n"
          ]
        }
      ]
    },
    {
      "cell_type": "markdown",
      "metadata": {
        "id": "8938bd8f"
      },
      "source": [
        "Q.25 What is the purpose of the '__call__' method in Python?\n",
        "\n",
        "In Python, the `__call__` method is a special method that allows an instance of a class to be called like a function. If a class defines a `__call__` method, creating an object of that class and then calling the object using parentheses (like you would call a function) will execute the code within the `__call__` method.\n",
        "\n",
        "Objects that can be called like functions are sometimes referred to as \"callable\" objects.\n",
        "\n",
        "**Purpose and Use Cases:**\n",
        "\n",
        "The `__call__` method is useful in several scenarios:\n",
        "\n",
        "1.  **Creating Function-like Objects:** It allows you to create objects that maintain state (through their attributes) but can be invoked with different arguments, similar to how closures work. This can be useful for creating objects that represent a specific operation or transformation.\n",
        "2.  **Customizing Object Behavior:** You can use `__call__` to define the default behavior of an object when it's called.\n",
        "3.  **Decorators with State:** `__call__` is often used in creating class-based decorators, where the decorator needs to maintain some state across function calls.\n",
        "4.  **Simulating Functions with Configuration:** You can create a class whose `__init__` method takes configuration arguments, and then the `__call__` method performs an action based on that configuration.\n",
        "\n",
        "**How it works:**\n",
        "\n",
        "When you call an instance of a class that has a `__call__` method (e.g., `my_object(arg1, arg2)`), Python internally translates this into a call to the object's `__call__` method (e.g., `my_object.__call__(arg1, arg2)`).\n",
        "\n",
        "**Example:**"
      ]
    },
    {
      "cell_type": "code",
      "metadata": {
        "colab": {
          "base_uri": "https://localhost:8080/"
        },
        "id": "a0c0a4ff",
        "outputId": "179359b6-ac6c-408b-cf9f-9709db3f4257"
      },
      "source": [
        "class Multiplier:\n",
        "    def __init__(self, factor):\n",
        "        self.factor = factor\n",
        "\n",
        "    def __call__(self, number):\n",
        "        return number * self.factor\n",
        "\n",
        "# Create an instance of Multiplier\n",
        "double = Multiplier(2)\n",
        "triple = Multiplier(3)\n",
        "\n",
        "# Call the instances like functions\n",
        "print(double(10))  # Output: 20\n",
        "print(triple(5))   # Output: 15\n",
        "\n",
        "# The object itself is callable\n",
        "print(callable(double)) # Output: True"
      ],
      "execution_count": null,
      "outputs": [
        {
          "output_type": "stream",
          "name": "stdout",
          "text": [
            "20\n",
            "15\n",
            "True\n"
          ]
        }
      ]
    },
    {
      "cell_type": "markdown",
      "source": [
        "# Practical Question"
      ],
      "metadata": {
        "id": "hWxrs7CyENtP"
      }
    },
    {
      "cell_type": "markdown",
      "source": [
        "Q.1 Create a parent class Animal with a method speak() that print a generic message. Create a child class Dog that overrides the speak() method to print \"Bark\"\n"
      ],
      "metadata": {
        "id": "uh_iBIQ5E08Y"
      }
    },
    {
      "cell_type": "code",
      "metadata": {
        "id": "e5056e93"
      },
      "source": [
        "class Animal:\n",
        "    def speak(self):\n",
        "        print(\"This animal makes a sound.\")"
      ],
      "execution_count": null,
      "outputs": []
    },
    {
      "cell_type": "code",
      "metadata": {
        "colab": {
          "base_uri": "https://localhost:8080/"
        },
        "id": "8c36496a",
        "outputId": "b74d5cbb-1e77-4741-c054-0a566bae3f17"
      },
      "source": [
        "class Dog(Animal):\n",
        "    def speak(self):\n",
        "        print(\"Bark!\")\n",
        "\n",
        "# Create an instance of the Dog class and call the overridden method\n",
        "my_dog = Dog()\n",
        "my_dog.speak()"
      ],
      "execution_count": null,
      "outputs": [
        {
          "output_type": "stream",
          "name": "stdout",
          "text": [
            "Bark!\n"
          ]
        }
      ]
    },
    {
      "cell_type": "markdown",
      "source": [
        "Q.2 Write a Program to create an abstract class Shape with a method area(). Derive classes circle and Rectangle from it implement the area() method in both."
      ],
      "metadata": {
        "id": "gW3FmKZ3FYAp"
      }
    },
    {
      "cell_type": "code",
      "source": [
        "from abc import ABC, abstractmethod\n",
        "\n",
        "# Abstract class\n",
        "class Shape(ABC):\n",
        "    @abstractmethod\n",
        "    def area(self):\n",
        "        pass\n",
        "\n",
        "# Circle class\n",
        "class Circle(Shape):\n",
        "    def __init__(self, radius):\n",
        "        self.radius = radius\n",
        "\n",
        "    def area(self):\n",
        "        return 3.14 * self.radius * self.radius\n",
        "\n",
        "# Rectangle class\n",
        "class Rectangle(Shape):\n",
        "    def __init__(self, length, width):\n",
        "        self.length = length\n",
        "        self.width = width\n",
        "\n",
        "    def area(self):\n",
        "        return self.length * self.width\n",
        "\n",
        "c = Circle(5)\n",
        "r = Rectangle(4, 6)\n",
        "\n",
        "print(\"Circle area:\", c.area())\n",
        "print(\"Rectangle area:\", r.area())"
      ],
      "metadata": {
        "colab": {
          "base_uri": "https://localhost:8080/"
        },
        "id": "pSpcmsuNzlDU",
        "outputId": "2bf45f14-e546-439b-d90e-4149d1c0ba1d"
      },
      "execution_count": null,
      "outputs": [
        {
          "output_type": "stream",
          "name": "stdout",
          "text": [
            "Circle area: 78.5\n",
            "Rectangle area: 24\n"
          ]
        }
      ]
    },
    {
      "cell_type": "markdown",
      "source": [
        "Q.3 Implement a multi-level inheritance scenario where a class vehicle has an attribute type. Derive a class Car and further derive class Electric Car that adds a battery attribute"
      ],
      "metadata": {
        "id": "xHEeopN91kwE"
      }
    },
    {
      "cell_type": "code",
      "metadata": {
        "colab": {
          "base_uri": "https://localhost:8080/"
        },
        "id": "7660e560",
        "outputId": "129fe203-309c-4639-a1cd-d89b7d17665f"
      },
      "source": [
        "class Vehicle:\n",
        "    def __init__(self, vehicle_type):\n",
        "        self.vehicle_type = vehicle_type\n",
        "        print(f\"Vehicle created: Type - {self.vehicle_type}\")\n",
        "\n",
        "class Car(Vehicle):\n",
        "    def __init__(self, vehicle_type, model):\n",
        "        super().__init__(vehicle_type)\n",
        "        self.model = model\n",
        "        print(f\"Car created: Model - {self.model}\")\n",
        "\n",
        "class ElectricCar(Car):\n",
        "    def __init__(self, vehicle_type, model, battery_capacity):\n",
        "        super().__init__(vehicle_type, model)\n",
        "        self.battery_capacity = battery_capacity\n",
        "        print(f\"Electric Car created: Battery Capacity - {self.battery_capacity} kWh\")\n",
        "\n",
        "    def display_info(self):\n",
        "        print(f\"Type: {self.vehicle_type}, Model: {self.model}, Battery: {self.battery_capacity} kWh\")\n",
        "\n",
        "# Create an instance of ElectricCar\n",
        "my_electric_car = ElectricCar(\"Electric Car\", \"Model S\", 100)\n",
        "\n",
        "# Display information using the method in the derived class\n",
        "my_electric_car.display_info()"
      ],
      "execution_count": null,
      "outputs": [
        {
          "output_type": "stream",
          "name": "stdout",
          "text": [
            "Vehicle created: Type - Electric Car\n",
            "Car created: Model - Model S\n",
            "Electric Car created: Battery Capacity - 100 kWh\n",
            "Type: Electric Car, Model: Model S, Battery: 100 kWh\n"
          ]
        }
      ]
    },
    {
      "cell_type": "markdown",
      "source": [
        "Q.4 Demonstrate polymorphism by creating a base class Bird with a method fly(). Create two derived classes Sparrow and penguin that override the fly() method."
      ],
      "metadata": {
        "id": "TM8Oc4JI2YG7"
      }
    },
    {
      "cell_type": "code",
      "metadata": {
        "colab": {
          "base_uri": "https://localhost:8080/"
        },
        "id": "4a935f38",
        "outputId": "bfcd373b-021e-4315-adcb-14acbb2c0a0b"
      },
      "source": [
        "class Bird:\n",
        "    def fly(self):\n",
        "        print(\"This bird can fly.\")\n",
        "\n",
        "class Sparrow(Bird):\n",
        "    def fly(self):\n",
        "        print(\"Sparrows can fly short distances.\")\n",
        "\n",
        "class Penguin(Bird):\n",
        "    def fly(self):\n",
        "        print(\"Penguins cannot fly.\")\n",
        "\n",
        "# Create a list of different bird objects\n",
        "birds = [Bird(), Sparrow(), Penguin()]\n",
        "\n",
        "# Iterate through the list and call the 'fly' method on each object\n",
        "# Due to polymorphism, the correct 'fly' method for each bird type is called\n",
        "for bird in birds:\n",
        "    bird.fly()"
      ],
      "execution_count": null,
      "outputs": [
        {
          "output_type": "stream",
          "name": "stdout",
          "text": [
            "This bird can fly.\n",
            "Sparrows can fly short distances.\n",
            "Penguins cannot fly.\n"
          ]
        }
      ]
    },
    {
      "cell_type": "markdown",
      "source": [
        "Q.5 Write a program to demostrate encapsulation by creating a class BankAccount with private attribute balance and methods to depoist, withdraw, and check balance"
      ],
      "metadata": {
        "id": "mxCqZ65r3MPr"
      }
    },
    {
      "cell_type": "code",
      "source": [
        "# Encapsulation example\n",
        "class BankAccount:\n",
        "    def __init__(self, initial_balance=0):\n",
        "        self.__balance = initial_balance  # private attribute\n",
        "\n",
        "    def deposit(self, amount):\n",
        "        if amount > 0:\n",
        "            self.__balance += amount\n",
        "            print(f\"Deposited: {amount}\")\n",
        "        else:\n",
        "            print(\"Deposit amount must be positive.\")\n",
        "\n",
        "    def withdraw(self, amount):\n",
        "        if amount > 0 and self.__balance >= amount:\n",
        "            self.__balance -= amount\n",
        "            print(f\"Withdrawn: {amount}\")\n",
        "        else:\n",
        "            print(\"Invalid amount or insufficient balance.\")\n",
        "\n",
        "    def check_balance(self):\n",
        "        print(f\"Current Balance: {self.__balance}\")\n",
        "\n",
        "account = BankAccount(1000)\n",
        "account.deposit(500)\n",
        "account.withdraw(300)\n",
        "account.check_balance()"
      ],
      "metadata": {
        "colab": {
          "base_uri": "https://localhost:8080/"
        },
        "id": "wt2TdHxZ3kUB",
        "outputId": "bf5a5384-33f4-4905-d857-a405b6cde51c"
      },
      "execution_count": null,
      "outputs": [
        {
          "output_type": "stream",
          "name": "stdout",
          "text": [
            "Deposited: 500\n",
            "Withdrawn: 300\n",
            "Current Balance: 1200\n"
          ]
        }
      ]
    },
    {
      "cell_type": "markdown",
      "source": [
        "Q.6 Demonstrate runtime polymorphism using a method play() in a base class instrunebt. Derive classes Guitar and Piano that implement their own version of play()."
      ],
      "metadata": {
        "id": "i5c5lef95DcW"
      }
    },
    {
      "cell_type": "code",
      "metadata": {
        "colab": {
          "base_uri": "https://localhost:8080/"
        },
        "id": "4495215b",
        "outputId": "4b08d2b8-1591-403e-f20d-dd7256040ff7"
      },
      "source": [
        "class Instrument:\n",
        "    def play(self):\n",
        "        print(\"Playing an instrument sound.\")\n",
        "\n",
        "class Guitar(Instrument):\n",
        "    def play(self):\n",
        "        print(\"Strumming the guitar strings.\")\n",
        "\n",
        "class Piano(Instrument):\n",
        "    def play(self):\n",
        "        print(\"Pressing the piano keys.\")\n",
        "\n",
        "# Create a list of different instrument objects\n",
        "instruments = [Instrument(), Guitar(), Piano()]\n",
        "\n",
        "# Iterate through the list and call the 'play' method on each object\n",
        "# Due to runtime polymorphism, the correct 'play' method for each instrument type is called\n",
        "for instrument in instruments:\n",
        "    instrument.play()"
      ],
      "execution_count": null,
      "outputs": [
        {
          "output_type": "stream",
          "name": "stdout",
          "text": [
            "Playing an instrument sound.\n",
            "Strumming the guitar strings.\n",
            "Pressing the piano keys.\n"
          ]
        }
      ]
    },
    {
      "cell_type": "markdown",
      "source": [
        "Q.7 Create a class Math operation with a class method add_number() to add two number and a static method subtract_number() to subtract two numbers."
      ],
      "metadata": {
        "id": "cNE-qAi-5x-N"
      }
    },
    {
      "cell_type": "code",
      "metadata": {
        "colab": {
          "base_uri": "https://localhost:8080/"
        },
        "id": "32285b3a",
        "outputId": "f59bc24e-6048-4d10-96dc-ebf765db40e8"
      },
      "source": [
        "class MathOperation:\n",
        "    @classmethod\n",
        "    def add_numbers(cls, x, y):\n",
        "        \"\"\"Class method to add two numbers.\"\"\"\n",
        "        print(\"Using class method to add:\")\n",
        "        return x + y\n",
        "\n",
        "    @staticmethod\n",
        "    def subtract_numbers(x, y):\n",
        "        \"\"\"Static method to subtract two numbers.\"\"\"\n",
        "        print(\"Using static method to subtract:\")\n",
        "        return x - y\n",
        "\n",
        "# Using the class method\n",
        "sum_result = MathOperation.add_numbers(10, 5)\n",
        "print(f\"Sum: {sum_result}\")\n",
        "\n",
        "# Using the static method\n",
        "difference_result = MathOperation.subtract_numbers(10, 5)\n",
        "print(f\"Difference: {difference_result}\")"
      ],
      "execution_count": null,
      "outputs": [
        {
          "output_type": "stream",
          "name": "stdout",
          "text": [
            "Using class method to add:\n",
            "Sum: 15\n",
            "Using static method to subtract:\n",
            "Difference: 5\n"
          ]
        }
      ]
    },
    {
      "cell_type": "markdown",
      "source": [
        "Q.8 Implement a class person with a class method to count the total number of person created."
      ],
      "metadata": {
        "id": "fvtfxZsW6m7_"
      }
    },
    {
      "cell_type": "code",
      "metadata": {
        "colab": {
          "base_uri": "https://localhost:8080/"
        },
        "id": "62065628",
        "outputId": "36bfee35-9edb-4405-a300-0fae087476d2"
      },
      "source": [
        "class Person:\n",
        "    # Class variable to keep track of the number of persons created\n",
        "    number_of_persons = 0\n",
        "\n",
        "    def __init__(self, name):\n",
        "        self.name = name\n",
        "        # Increment the class variable each time a new object is created\n",
        "        Person.number_of_persons += 1\n",
        "        print(f\"Person '{self.name}' created.\")\n",
        "\n",
        "    @classmethod\n",
        "    def get_number_of_persons(cls):\n",
        "        \"\"\"Class method to return the total number of persons created.\"\"\"\n",
        "        return cls.number_of_persons\n",
        "\n",
        "# Create some Person objects\n",
        "person1 = Person(\"Alice\")\n",
        "person2 = Person(\"Bob\")\n",
        "person3 = Person(\"Charlie\")\n",
        "\n",
        "# Use the class method to get the total count\n",
        "total_persons = Person.get_number_of_persons()\n",
        "print(f\"\\nTotal number of persons created: {total_persons}\")"
      ],
      "execution_count": null,
      "outputs": [
        {
          "output_type": "stream",
          "name": "stdout",
          "text": [
            "Person 'Alice' created.\n",
            "Person 'Bob' created.\n",
            "Person 'Charlie' created.\n",
            "\n",
            "Total number of persons created: 3\n"
          ]
        }
      ]
    },
    {
      "cell_type": "markdown",
      "source": [
        "Q.9 Write a class Fraction with attributes numerator and denominator. Override the str method to display the fraction as \"numerator/denominator\"."
      ],
      "metadata": {
        "id": "iVcsTWQX7FdZ"
      }
    },
    {
      "cell_type": "code",
      "source": [
        "# Class demostrating __str __method\n",
        "class Fraction:\n",
        "    def __init__(self, numerator, denominator):\n",
        "        self.numerator = numerator\n",
        "        self.denominator = denominator\n",
        "\n",
        "    def __str__(self):\n",
        "        return f\"{self.numerator}/{self.denominator}\"\n",
        "\n",
        "f = Fraction(3,4)\n",
        "print(f)"
      ],
      "metadata": {
        "colab": {
          "base_uri": "https://localhost:8080/"
        },
        "id": "E9CYjcL07zW6",
        "outputId": "167860d5-377e-4090-f427-7264e8f6f424"
      },
      "execution_count": null,
      "outputs": [
        {
          "output_type": "stream",
          "name": "stdout",
          "text": [
            "3/4\n"
          ]
        }
      ]
    },
    {
      "cell_type": "markdown",
      "source": [
        "Q.10 Demostrate operator overloading by creating a class vector and overriding the add method to add two vectors"
      ],
      "metadata": {
        "id": "ypsL8q_083a1"
      }
    },
    {
      "cell_type": "code",
      "metadata": {
        "colab": {
          "base_uri": "https://localhost:8080/"
        },
        "id": "8d19c02d",
        "outputId": "2f31f889-45d0-4a4f-8367-c2c021ae9bbd"
      },
      "source": [
        "class Vector:\n",
        "    def __init__(self, x, y):\n",
        "        self.x = x\n",
        "        self.y = y\n",
        "\n",
        "    def __str__(self):\n",
        "        \"\"\"Return a human-readable string representation.\"\"\"\n",
        "        return f\"Vector({self.x}, {self.y})\"\n",
        "\n",
        "    def __repr__(self):\n",
        "        \"\"\"Return an unambiguous string representation.\"\"\"\n",
        "        return f\"Vector(x={self.x}, y={self.y})\"\n",
        "\n",
        "    def __add__(self, other):\n",
        "        \"\"\"Override the addition operator (+).\"\"\"\n",
        "        if isinstance(other, Vector):\n",
        "            return Vector(self.x + other.x, self.y + other.y)\n",
        "        else:\n",
        "            raise TypeError(\"Can only add a Vector object to another Vector object.\")\n",
        "\n",
        "# Create two Vector objects\n",
        "v1 = Vector(2, 3)\n",
        "v2 = Vector(1, 4)\n",
        "\n",
        "# Add the two vectors using the + operator (calls the __add__ method)\n",
        "v3 = v1 + v2\n",
        "\n",
        "# Print the result\n",
        "print(f\"{v1} + {v2} = {v3}\")"
      ],
      "execution_count": null,
      "outputs": [
        {
          "output_type": "stream",
          "name": "stdout",
          "text": [
            "Vector(2, 3) + Vector(1, 4) = Vector(3, 7)\n"
          ]
        }
      ]
    },
    {
      "cell_type": "markdown",
      "source": [
        "Q.11 Create a class person with attributes name and age. Add a method greet() that prints \"Hello, my name is {name} and I am {age} years old\"."
      ],
      "metadata": {
        "id": "f7tkseo39Zzz"
      }
    },
    {
      "cell_type": "code",
      "metadata": {
        "colab": {
          "base_uri": "https://localhost:8080/"
        },
        "id": "eefb3e63",
        "outputId": "dcd7af1f-0ca4-44e2-83e8-a979bbea8d4a"
      },
      "source": [
        "class Person:\n",
        "    def __init__(self, name, age):\n",
        "        self.name = name\n",
        "        self.age = age\n",
        "\n",
        "    def greet(self):\n",
        "        print(f\"Hello, my name is {self.name} and I am {self.age} years old.\")\n",
        "\n",
        "# Create a Person object\n",
        "person1 = Person(\"Alice\", 30)\n",
        "\n",
        "# Call the greet method\n",
        "person1.greet()"
      ],
      "execution_count": null,
      "outputs": [
        {
          "output_type": "stream",
          "name": "stdout",
          "text": [
            "Hello, my name is Alice and I am 30 years old.\n"
          ]
        }
      ]
    },
    {
      "cell_type": "markdown",
      "source": [
        "Q.12 Implement a class Student with attributes name and grades. Create a method average_grade() to compute the average of the grades."
      ],
      "metadata": {
        "id": "7WngqCNu-Gut"
      }
    },
    {
      "cell_type": "code",
      "metadata": {
        "colab": {
          "base_uri": "https://localhost:8080/"
        },
        "id": "0272748b",
        "outputId": "579a437c-2b62-4a88-a9d4-35bc0c39dd86"
      },
      "source": [
        "class Student:\n",
        "    def __init__(self, name, grades):\n",
        "        self.name = name\n",
        "        self.grades = grades\n",
        "\n",
        "    def average_grade(self):\n",
        "        \"\"\"Computes the average of the student's grades.\"\"\"\n",
        "        if not self.grades:\n",
        "            return 0  # Return 0 if there are no grades to avoid division by zero\n",
        "        return sum(self.grades) / len(self.grades)\n",
        "\n",
        "# Create a Student object\n",
        "student1 = Student(\"Bob\", [85, 90, 78, 92])\n",
        "\n",
        "# Compute and print the average grade\n",
        "average = student1.average_grade()\n",
        "print(f\"{student1.name}'s average grade is: {average}\")\n",
        "\n",
        "# Example with no grades\n",
        "student2 = Student(\"Charlie\", [])\n",
        "average2 = student2.average_grade()\n",
        "print(f\"{student2.name}'s average grade is: {average2}\")"
      ],
      "execution_count": null,
      "outputs": [
        {
          "output_type": "stream",
          "name": "stdout",
          "text": [
            "Bob's average grade is: 86.25\n",
            "Charlie's average grade is: 0\n"
          ]
        }
      ]
    },
    {
      "cell_type": "markdown",
      "source": [
        "Q.13 Create a class Rectangle with methods set_dimensions() to set the dimensions and area() to calculate the area."
      ],
      "metadata": {
        "id": "3hB5O1gk-1XU"
      }
    },
    {
      "cell_type": "code",
      "metadata": {
        "colab": {
          "base_uri": "https://localhost:8080/"
        },
        "id": "448c9808",
        "outputId": "b2da46ee-e85c-4750-c119-ad0e6721c5a8"
      },
      "source": [
        "class Rectangle:\n",
        "    def __init__(self, length=0, width=0):\n",
        "        self.length = length\n",
        "        self.width = width\n",
        "\n",
        "    def set_dimensions(self, length, width):\n",
        "        \"\"\"Sets the length and width of the rectangle.\"\"\"\n",
        "        if length >= 0 and width >= 0:\n",
        "            self.length = length\n",
        "            self.width = width\n",
        "        else:\n",
        "            print(\"Dimensions must be non-negative.\")\n",
        "\n",
        "    def area(self):\n",
        "        \"\"\"Calculates and returns the area of the rectangle.\"\"\"\n",
        "        return self.length * self.width\n",
        "\n",
        "# Create a Rectangle object\n",
        "my_rectangle = Rectangle()\n",
        "\n",
        "# Set the dimensions using the method\n",
        "my_rectangle.set_dimensions(5, 10)\n",
        "\n",
        "# Calculate and print the area\n",
        "print(f\"The area of the rectangle is: {my_rectangle.area()}\")\n",
        "\n",
        "# Try setting invalid dimensions\n",
        "my_rectangle.set_dimensions(-2, 5)"
      ],
      "execution_count": null,
      "outputs": [
        {
          "output_type": "stream",
          "name": "stdout",
          "text": [
            "The area of the rectangle is: 50\n",
            "Dimensions must be non-negative.\n"
          ]
        }
      ]
    },
    {
      "cell_type": "markdown",
      "source": [
        "Q.14 Create a class Employee with a method calculate_salary()that computes the salary based on hours worked and hourly rate. create a derived class Manager that adds a bonus to the salary"
      ],
      "metadata": {
        "id": "7Qn4GtJ7_bJy"
      }
    },
    {
      "cell_type": "code",
      "metadata": {
        "colab": {
          "base_uri": "https://localhost:8080/"
        },
        "id": "18338a09",
        "outputId": "4bd4db37-586a-48ea-89a3-34bcb16f57e9"
      },
      "source": [
        "class Employee:\n",
        "    def __init__(self, name, hours_worked, hourly_rate):\n",
        "        self.name = name\n",
        "        self.hours_worked = hours_worked\n",
        "        self.hourly_rate = hourly_rate\n",
        "\n",
        "    def calculate_salary(self):\n",
        "        \"\"\"Computes the salary based on hours worked and hourly rate.\"\"\"\n",
        "        return self.hours_worked * self.hourly_rate\n",
        "\n",
        "class Manager(Employee):\n",
        "    def __init__(self, name, hours_worked, hourly_rate, bonus):\n",
        "        super().__init__(name, hours_worked, hourly_rate)\n",
        "        self.bonus = bonus\n",
        "\n",
        "    def calculate_salary(self):\n",
        "        \"\"\"Computes the salary including a bonus.\"\"\"\n",
        "        base_salary = super().calculate_salary()\n",
        "        return base_salary + self.bonus\n",
        "\n",
        "# Create an Employee object\n",
        "employee1 = Employee(\"Alice\", 40, 20)\n",
        "print(f\"{employee1.name}'s salary: ${employee1.calculate_salary()}\")\n",
        "\n",
        "# Create a Manager object\n",
        "manager1 = Manager(\"Bob\", 40, 25, 500)\n",
        "print(f\"{manager1.name}'s salary: ${manager1.calculate_salary()}\")"
      ],
      "execution_count": null,
      "outputs": [
        {
          "output_type": "stream",
          "name": "stdout",
          "text": [
            "Alice's salary: $800\n",
            "Bob's salary: $1500\n"
          ]
        }
      ]
    },
    {
      "cell_type": "markdown",
      "source": [
        "Q.15 create a class product with attributes name, price and quantity. Implement a method total_price() that calculate that total price of the product"
      ],
      "metadata": {
        "id": "Zd-iAGUiAOJx"
      }
    },
    {
      "cell_type": "code",
      "metadata": {
        "colab": {
          "base_uri": "https://localhost:8080/"
        },
        "id": "d65cd6bc",
        "outputId": "bb3e81d0-b68b-4534-fc95-22b98daf9eec"
      },
      "source": [
        "class Product:\n",
        "    def __init__(self, name, price, quantity):\n",
        "        self.name = name\n",
        "        self.price = price\n",
        "        self.quantity = quantity\n",
        "\n",
        "    def total_price(self):\n",
        "        \"\"\"Calculates the total price of the product.\"\"\"\n",
        "        return self.price * self.quantity\n",
        "\n",
        "# Create a Product object\n",
        "product1 = Product(\"Laptop\", 1200, 2)\n",
        "\n",
        "# Calculate and print the total price\n",
        "total = product1.total_price()\n",
        "print(f\"The total price of {product1.name} is: ${total}\")\n",
        "\n",
        "# Create another Product object\n",
        "product2 = Product(\"Mouse\", 25, 10)\n",
        "total2 = product2.total_price()\n",
        "print(f\"The total price of {product2.name} is: ${total2}\")"
      ],
      "execution_count": null,
      "outputs": [
        {
          "output_type": "stream",
          "name": "stdout",
          "text": [
            "The total price of Laptop is: $2400\n",
            "The total price of Mouse is: $250\n"
          ]
        }
      ]
    },
    {
      "cell_type": "markdown",
      "source": [
        "Q.16 Create a class Animal with an absrtract method sound(). Create two derived classes Cow and Sheep that implement the sound() method."
      ],
      "metadata": {
        "id": "mlskbOecC2NV"
      }
    },
    {
      "cell_type": "code",
      "metadata": {
        "colab": {
          "base_uri": "https://localhost:8080/"
        },
        "id": "08311e3e",
        "outputId": "9b817b20-2e59-4fed-ca79-16aa5214ae02"
      },
      "source": [
        "from abc import ABC, abstractmethod\n",
        "\n",
        "class Animal(ABC):\n",
        "    @abstractmethod\n",
        "    def sound(self):\n",
        "        pass\n",
        "\n",
        "class Cow(Animal):\n",
        "    def sound(self):\n",
        "        return \"Moo\"\n",
        "\n",
        "class Sheep(Animal):\n",
        "    def sound(self):\n",
        "        return \"Baa\"\n",
        "\n",
        "# Create instances of the derived classes\n",
        "cow = Cow()\n",
        "sheep = Sheep()\n",
        "\n",
        "# Call the sound method on each object\n",
        "print(cow.sound())\n",
        "print(sheep.sound())"
      ],
      "execution_count": null,
      "outputs": [
        {
          "output_type": "stream",
          "name": "stdout",
          "text": [
            "Moo\n",
            "Baa\n"
          ]
        }
      ]
    },
    {
      "cell_type": "markdown",
      "source": [
        "Q.17 Create a class Book with attributes title, author, and year_published. Add a method get_book_info() that returns a ormatted string with the book's details."
      ],
      "metadata": {
        "id": "mxEW9tz0Di3b"
      }
    },
    {
      "cell_type": "code",
      "metadata": {
        "colab": {
          "base_uri": "https://localhost:8080/"
        },
        "id": "f4aa3100",
        "outputId": "9ebd12ef-5947-495a-a209-71602d9995ec"
      },
      "source": [
        "class Book:\n",
        "    def __init__(self, title, author, year_published):\n",
        "        self.title = title\n",
        "        self.author = author\n",
        "        self.year_published = year_published\n",
        "\n",
        "    def get_book_info(self):\n",
        "        \"\"\"Returns a formatted string with the book's details.\"\"\"\n",
        "        return f\"Title: {self.title}, Author: {self.author}, Year: {self.year_published}\"\n",
        "\n",
        "# Create a Book object\n",
        "my_book = Book(\"The Hitchhiker's Guide to the Galaxy\", \"Douglas Adams\", 1979)\n",
        "\n",
        "# Get and print the book information\n",
        "book_details = my_book.get_book_info()\n",
        "print(book_details)"
      ],
      "execution_count": null,
      "outputs": [
        {
          "output_type": "stream",
          "name": "stdout",
          "text": [
            "Title: The Hitchhiker's Guide to the Galaxy, Author: Douglas Adams, Year: 1979\n"
          ]
        }
      ]
    },
    {
      "cell_type": "markdown",
      "source": [
        "Q.18 Create a class House with attributes address and price. Createba derived class Mansion that adds an attribute number_of_rooms."
      ],
      "metadata": {
        "id": "4Pg7gYXNEUTd"
      }
    },
    {
      "cell_type": "code",
      "metadata": {
        "colab": {
          "base_uri": "https://localhost:8080/"
        },
        "id": "9af130c6",
        "outputId": "af3d2253-56d3-41a4-8f41-84842250c38c"
      },
      "source": [
        "class House:\n",
        "    def __init__(self, address, price):\n",
        "        self.address = address\n",
        "        self.price = price\n",
        "\n",
        "class Mansion(House):\n",
        "    def __init__(self, address, price, number_of_rooms):\n",
        "        super().__init__(address, price)\n",
        "        self.number_of_rooms = number_of_rooms\n",
        "\n",
        "# Create an instance of the Mansion class\n",
        "my_mansion = Mansion(\"123 Luxury Lane\", 5000000, 20)\n",
        "\n",
        "# Access attributes from both base and derived classes\n",
        "print(f\"Mansion Address: {my_mansion.address}\")\n",
        "print(f\"Mansion Price: ${my_mansion.price}\")\n",
        "print(f\"Number of Rooms: {my_mansion.number_of_rooms}\")"
      ],
      "execution_count": null,
      "outputs": [
        {
          "output_type": "stream",
          "name": "stdout",
          "text": [
            "Mansion Address: 123 Luxury Lane\n",
            "Mansion Price: $5000000\n",
            "Number of Rooms: 20\n"
          ]
        }
      ]
    }
  ]
}